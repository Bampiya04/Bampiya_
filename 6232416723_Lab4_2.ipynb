{
  "nbformat": 4,
  "nbformat_minor": 0,
  "metadata": {
    "colab": {
      "name": "6232416723_Lab4_2.ipynb",
      "provenance": [],
      "collapsed_sections": [],
      "authorship_tag": "ABX9TyOWuOOBRat3VZHYg4/hCVjH",
      "include_colab_link": true
    },
    "kernelspec": {
      "name": "python3",
      "display_name": "Python 3"
    }
  },
  "cells": [
    {
      "cell_type": "markdown",
      "metadata": {
        "id": "view-in-github",
        "colab_type": "text"
      },
      "source": [
        "<a href=\"https://colab.research.google.com/github/Bampiya04/Bampiya_/blob/master/6232416723_Lab4_2.ipynb\" target=\"_parent\"><img src=\"https://colab.research.google.com/assets/colab-badge.svg\" alt=\"Open In Colab\"/></a>"
      ]
    },
    {
      "cell_type": "code",
      "metadata": {
        "id": "HpIdgb2mo3t-",
        "colab_type": "code",
        "outputId": "0dca433a-a2ef-4e49-f957-bda8998954e4",
        "colab": {
          "base_uri": "https://localhost:8080/",
          "height": 107
        }
      },
      "source": [
        "n=int(input('Enter the number:'))\n",
        "while n>0 and (n+1)%10 !=0 :\n",
        "  print('Output:',n)\n",
        "  n=int(input('Enter the number:'))"
      ],
      "execution_count": 0,
      "outputs": [
        {
          "output_type": "stream",
          "text": [
            "Enter the number:25\n",
            "Output: 25\n",
            "Enter the number:7\n",
            "Output: 7\n",
            "Enter the number:19\n"
          ],
          "name": "stdout"
        }
      ]
    }
  ]
}